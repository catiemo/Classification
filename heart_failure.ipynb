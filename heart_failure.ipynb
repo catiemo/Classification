{
 "cells": [
  {
   "cell_type": "markdown",
   "id": "7d65bdeb",
   "metadata": {},
   "source": [
    "### Importing Libraries"
   ]
  },
  {
   "cell_type": "code",
   "execution_count": 1,
   "id": "4a855ad0",
   "metadata": {},
   "outputs": [],
   "source": [
    "import pandas as pd\n",
    "from sklearn.preprocessing import StandardScaler, LabelEncoder\n",
    "from sklearn.model_selection import train_test_split\n",
    "from collections import Counter\n",
    "from sklearn.compose import ColumnTransformer\n",
    "from tensorflow.keras.models import Sequential\n",
    "from tensorflow.keras.layers import Dense, InputLayer\n",
    "from sklearn.metrics import classification_report\n",
    "from tensorflow.keras.utils import to_categorical\n",
    "import numpy as np"
   ]
  },
  {
   "cell_type": "markdown",
   "id": "7e825043",
   "metadata": {},
   "source": [
    "### Reading csv file"
   ]
  },
  {
   "cell_type": "code",
   "execution_count": 2,
   "id": "e42ba478",
   "metadata": {},
   "outputs": [
    {
     "data": {
      "text/html": [
       "<div>\n",
       "<style scoped>\n",
       "    .dataframe tbody tr th:only-of-type {\n",
       "        vertical-align: middle;\n",
       "    }\n",
       "\n",
       "    .dataframe tbody tr th {\n",
       "        vertical-align: top;\n",
       "    }\n",
       "\n",
       "    .dataframe thead th {\n",
       "        text-align: right;\n",
       "    }\n",
       "</style>\n",
       "<table border=\"1\" class=\"dataframe\">\n",
       "  <thead>\n",
       "    <tr style=\"text-align: right;\">\n",
       "      <th></th>\n",
       "      <th>Unnamed: 0</th>\n",
       "      <th>age</th>\n",
       "      <th>anaemia</th>\n",
       "      <th>creatinine_phosphokinase</th>\n",
       "      <th>diabetes</th>\n",
       "      <th>ejection_fraction</th>\n",
       "      <th>high_blood_pressure</th>\n",
       "      <th>platelets</th>\n",
       "      <th>serum_creatinine</th>\n",
       "      <th>serum_sodium</th>\n",
       "      <th>sex</th>\n",
       "      <th>smoking</th>\n",
       "      <th>time</th>\n",
       "      <th>DEATH_EVENT</th>\n",
       "      <th>death_event</th>\n",
       "    </tr>\n",
       "  </thead>\n",
       "  <tbody>\n",
       "    <tr>\n",
       "      <th>0</th>\n",
       "      <td>0</td>\n",
       "      <td>75.0</td>\n",
       "      <td>no</td>\n",
       "      <td>582</td>\n",
       "      <td>no</td>\n",
       "      <td>20</td>\n",
       "      <td>yes</td>\n",
       "      <td>265000.00</td>\n",
       "      <td>1.9</td>\n",
       "      <td>130</td>\n",
       "      <td>yes</td>\n",
       "      <td>no</td>\n",
       "      <td>4</td>\n",
       "      <td>1</td>\n",
       "      <td>yes</td>\n",
       "    </tr>\n",
       "    <tr>\n",
       "      <th>1</th>\n",
       "      <td>1</td>\n",
       "      <td>55.0</td>\n",
       "      <td>no</td>\n",
       "      <td>7861</td>\n",
       "      <td>no</td>\n",
       "      <td>38</td>\n",
       "      <td>no</td>\n",
       "      <td>263358.03</td>\n",
       "      <td>1.1</td>\n",
       "      <td>136</td>\n",
       "      <td>yes</td>\n",
       "      <td>no</td>\n",
       "      <td>6</td>\n",
       "      <td>1</td>\n",
       "      <td>yes</td>\n",
       "    </tr>\n",
       "    <tr>\n",
       "      <th>2</th>\n",
       "      <td>2</td>\n",
       "      <td>65.0</td>\n",
       "      <td>no</td>\n",
       "      <td>146</td>\n",
       "      <td>no</td>\n",
       "      <td>20</td>\n",
       "      <td>no</td>\n",
       "      <td>162000.00</td>\n",
       "      <td>1.3</td>\n",
       "      <td>129</td>\n",
       "      <td>yes</td>\n",
       "      <td>yes</td>\n",
       "      <td>7</td>\n",
       "      <td>1</td>\n",
       "      <td>yes</td>\n",
       "    </tr>\n",
       "    <tr>\n",
       "      <th>3</th>\n",
       "      <td>3</td>\n",
       "      <td>50.0</td>\n",
       "      <td>yes</td>\n",
       "      <td>111</td>\n",
       "      <td>no</td>\n",
       "      <td>20</td>\n",
       "      <td>no</td>\n",
       "      <td>210000.00</td>\n",
       "      <td>1.9</td>\n",
       "      <td>137</td>\n",
       "      <td>yes</td>\n",
       "      <td>no</td>\n",
       "      <td>7</td>\n",
       "      <td>1</td>\n",
       "      <td>yes</td>\n",
       "    </tr>\n",
       "    <tr>\n",
       "      <th>4</th>\n",
       "      <td>4</td>\n",
       "      <td>65.0</td>\n",
       "      <td>yes</td>\n",
       "      <td>160</td>\n",
       "      <td>yes</td>\n",
       "      <td>20</td>\n",
       "      <td>no</td>\n",
       "      <td>327000.00</td>\n",
       "      <td>2.7</td>\n",
       "      <td>116</td>\n",
       "      <td>no</td>\n",
       "      <td>no</td>\n",
       "      <td>8</td>\n",
       "      <td>1</td>\n",
       "      <td>yes</td>\n",
       "    </tr>\n",
       "  </tbody>\n",
       "</table>\n",
       "</div>"
      ],
      "text/plain": [
       "   Unnamed: 0   age anaemia  creatinine_phosphokinase diabetes  \\\n",
       "0           0  75.0      no                       582       no   \n",
       "1           1  55.0      no                      7861       no   \n",
       "2           2  65.0      no                       146       no   \n",
       "3           3  50.0     yes                       111       no   \n",
       "4           4  65.0     yes                       160      yes   \n",
       "\n",
       "   ejection_fraction high_blood_pressure  platelets  serum_creatinine  \\\n",
       "0                 20                 yes  265000.00               1.9   \n",
       "1                 38                  no  263358.03               1.1   \n",
       "2                 20                  no  162000.00               1.3   \n",
       "3                 20                  no  210000.00               1.9   \n",
       "4                 20                  no  327000.00               2.7   \n",
       "\n",
       "   serum_sodium  sex smoking  time  DEATH_EVENT death_event  \n",
       "0           130  yes      no     4            1         yes  \n",
       "1           136  yes      no     6            1         yes  \n",
       "2           129  yes     yes     7            1         yes  \n",
       "3           137  yes      no     7            1         yes  \n",
       "4           116   no      no     8            1         yes  "
      ]
     },
     "execution_count": 2,
     "metadata": {},
     "output_type": "execute_result"
    }
   ],
   "source": [
    "data = pd.read_csv('heart_failure.csv')\n",
    "data.head()"
   ]
  },
  {
   "cell_type": "markdown",
   "id": "42834b15",
   "metadata": {},
   "source": [
    "### Inspecting Data"
   ]
  },
  {
   "cell_type": "code",
   "execution_count": 3,
   "id": "0ef4b1ea",
   "metadata": {},
   "outputs": [
    {
     "name": "stdout",
     "output_type": "stream",
     "text": [
      "<class 'pandas.core.frame.DataFrame'>\n",
      "RangeIndex: 299 entries, 0 to 298\n",
      "Data columns (total 15 columns):\n",
      " #   Column                    Non-Null Count  Dtype  \n",
      "---  ------                    --------------  -----  \n",
      " 0   Unnamed: 0                299 non-null    int64  \n",
      " 1   age                       299 non-null    float64\n",
      " 2   anaemia                   299 non-null    object \n",
      " 3   creatinine_phosphokinase  299 non-null    int64  \n",
      " 4   diabetes                  299 non-null    object \n",
      " 5   ejection_fraction         299 non-null    int64  \n",
      " 6   high_blood_pressure       299 non-null    object \n",
      " 7   platelets                 299 non-null    float64\n",
      " 8   serum_creatinine          299 non-null    float64\n",
      " 9   serum_sodium              299 non-null    int64  \n",
      " 10  sex                       299 non-null    object \n",
      " 11  smoking                   299 non-null    object \n",
      " 12  time                      299 non-null    int64  \n",
      " 13  DEATH_EVENT               299 non-null    int64  \n",
      " 14  death_event               299 non-null    object \n",
      "dtypes: float64(3), int64(6), object(6)\n",
      "memory usage: 35.2+ KB\n"
     ]
    }
   ],
   "source": [
    "data.info()"
   ]
  },
  {
   "cell_type": "code",
   "execution_count": 4,
   "id": "8fef0707",
   "metadata": {},
   "outputs": [
    {
     "data": {
      "text/html": [
       "<div>\n",
       "<style scoped>\n",
       "    .dataframe tbody tr th:only-of-type {\n",
       "        vertical-align: middle;\n",
       "    }\n",
       "\n",
       "    .dataframe tbody tr th {\n",
       "        vertical-align: top;\n",
       "    }\n",
       "\n",
       "    .dataframe thead th {\n",
       "        text-align: right;\n",
       "    }\n",
       "</style>\n",
       "<table border=\"1\" class=\"dataframe\">\n",
       "  <thead>\n",
       "    <tr style=\"text-align: right;\">\n",
       "      <th></th>\n",
       "      <th>Unnamed: 0</th>\n",
       "      <th>age</th>\n",
       "      <th>creatinine_phosphokinase</th>\n",
       "      <th>ejection_fraction</th>\n",
       "      <th>platelets</th>\n",
       "      <th>serum_creatinine</th>\n",
       "      <th>serum_sodium</th>\n",
       "      <th>time</th>\n",
       "      <th>DEATH_EVENT</th>\n",
       "    </tr>\n",
       "  </thead>\n",
       "  <tbody>\n",
       "    <tr>\n",
       "      <th>count</th>\n",
       "      <td>299.000000</td>\n",
       "      <td>299.000000</td>\n",
       "      <td>299.000000</td>\n",
       "      <td>299.000000</td>\n",
       "      <td>299.000000</td>\n",
       "      <td>299.00000</td>\n",
       "      <td>299.000000</td>\n",
       "      <td>299.000000</td>\n",
       "      <td>299.00000</td>\n",
       "    </tr>\n",
       "    <tr>\n",
       "      <th>mean</th>\n",
       "      <td>149.000000</td>\n",
       "      <td>60.833893</td>\n",
       "      <td>581.839465</td>\n",
       "      <td>38.083612</td>\n",
       "      <td>263358.029264</td>\n",
       "      <td>1.39388</td>\n",
       "      <td>136.625418</td>\n",
       "      <td>130.260870</td>\n",
       "      <td>0.32107</td>\n",
       "    </tr>\n",
       "    <tr>\n",
       "      <th>std</th>\n",
       "      <td>86.458082</td>\n",
       "      <td>11.894809</td>\n",
       "      <td>970.287881</td>\n",
       "      <td>11.834841</td>\n",
       "      <td>97804.236869</td>\n",
       "      <td>1.03451</td>\n",
       "      <td>4.412477</td>\n",
       "      <td>77.614208</td>\n",
       "      <td>0.46767</td>\n",
       "    </tr>\n",
       "    <tr>\n",
       "      <th>min</th>\n",
       "      <td>0.000000</td>\n",
       "      <td>40.000000</td>\n",
       "      <td>23.000000</td>\n",
       "      <td>14.000000</td>\n",
       "      <td>25100.000000</td>\n",
       "      <td>0.50000</td>\n",
       "      <td>113.000000</td>\n",
       "      <td>4.000000</td>\n",
       "      <td>0.00000</td>\n",
       "    </tr>\n",
       "    <tr>\n",
       "      <th>25%</th>\n",
       "      <td>74.500000</td>\n",
       "      <td>51.000000</td>\n",
       "      <td>116.500000</td>\n",
       "      <td>30.000000</td>\n",
       "      <td>212500.000000</td>\n",
       "      <td>0.90000</td>\n",
       "      <td>134.000000</td>\n",
       "      <td>73.000000</td>\n",
       "      <td>0.00000</td>\n",
       "    </tr>\n",
       "    <tr>\n",
       "      <th>50%</th>\n",
       "      <td>149.000000</td>\n",
       "      <td>60.000000</td>\n",
       "      <td>250.000000</td>\n",
       "      <td>38.000000</td>\n",
       "      <td>262000.000000</td>\n",
       "      <td>1.10000</td>\n",
       "      <td>137.000000</td>\n",
       "      <td>115.000000</td>\n",
       "      <td>0.00000</td>\n",
       "    </tr>\n",
       "    <tr>\n",
       "      <th>75%</th>\n",
       "      <td>223.500000</td>\n",
       "      <td>70.000000</td>\n",
       "      <td>582.000000</td>\n",
       "      <td>45.000000</td>\n",
       "      <td>303500.000000</td>\n",
       "      <td>1.40000</td>\n",
       "      <td>140.000000</td>\n",
       "      <td>203.000000</td>\n",
       "      <td>1.00000</td>\n",
       "    </tr>\n",
       "    <tr>\n",
       "      <th>max</th>\n",
       "      <td>298.000000</td>\n",
       "      <td>95.000000</td>\n",
       "      <td>7861.000000</td>\n",
       "      <td>80.000000</td>\n",
       "      <td>850000.000000</td>\n",
       "      <td>9.40000</td>\n",
       "      <td>148.000000</td>\n",
       "      <td>285.000000</td>\n",
       "      <td>1.00000</td>\n",
       "    </tr>\n",
       "  </tbody>\n",
       "</table>\n",
       "</div>"
      ],
      "text/plain": [
       "       Unnamed: 0         age  creatinine_phosphokinase  ejection_fraction  \\\n",
       "count  299.000000  299.000000                299.000000         299.000000   \n",
       "mean   149.000000   60.833893                581.839465          38.083612   \n",
       "std     86.458082   11.894809                970.287881          11.834841   \n",
       "min      0.000000   40.000000                 23.000000          14.000000   \n",
       "25%     74.500000   51.000000                116.500000          30.000000   \n",
       "50%    149.000000   60.000000                250.000000          38.000000   \n",
       "75%    223.500000   70.000000                582.000000          45.000000   \n",
       "max    298.000000   95.000000               7861.000000          80.000000   \n",
       "\n",
       "           platelets  serum_creatinine  serum_sodium        time  DEATH_EVENT  \n",
       "count     299.000000         299.00000    299.000000  299.000000    299.00000  \n",
       "mean   263358.029264           1.39388    136.625418  130.260870      0.32107  \n",
       "std     97804.236869           1.03451      4.412477   77.614208      0.46767  \n",
       "min     25100.000000           0.50000    113.000000    4.000000      0.00000  \n",
       "25%    212500.000000           0.90000    134.000000   73.000000      0.00000  \n",
       "50%    262000.000000           1.10000    137.000000  115.000000      0.00000  \n",
       "75%    303500.000000           1.40000    140.000000  203.000000      1.00000  \n",
       "max    850000.000000           9.40000    148.000000  285.000000      1.00000  "
      ]
     },
     "execution_count": 4,
     "metadata": {},
     "output_type": "execute_result"
    }
   ],
   "source": [
    "data.describe()"
   ]
  },
  {
   "cell_type": "markdown",
   "id": "1f52df99",
   "metadata": {},
   "source": [
    "### Data Preprocessing"
   ]
  },
  {
   "cell_type": "code",
   "execution_count": 5,
   "id": "c8da6ee7",
   "metadata": {},
   "outputs": [
    {
     "data": {
      "text/plain": [
       "Counter({'yes': 96, 'no': 203})"
      ]
     },
     "execution_count": 5,
     "metadata": {},
     "output_type": "execute_result"
    }
   ],
   "source": [
    "Counter(data.death_event)"
   ]
  },
  {
   "cell_type": "markdown",
   "id": "88662b4f",
   "metadata": {},
   "source": [
    "### Labels and Features selection"
   ]
  },
  {
   "cell_type": "code",
   "execution_count": 6,
   "id": "3555bf4d",
   "metadata": {},
   "outputs": [],
   "source": [
    "y = data.death_event\n",
    "x = data[['age','anaemia','creatinine_phosphokinase','diabetes','ejection_fraction','high_blood_pressure','platelets','serum_creatinine','serum_sodium','sex','smoking','time']]"
   ]
  },
  {
   "cell_type": "code",
   "execution_count": 7,
   "id": "033ca325",
   "metadata": {},
   "outputs": [],
   "source": [
    "x = pd.get_dummies(x)"
   ]
  },
  {
   "cell_type": "markdown",
   "id": "9871aac4",
   "metadata": {},
   "source": [
    "### Data split into training and testing sets"
   ]
  },
  {
   "cell_type": "code",
   "execution_count": 8,
   "id": "a8dd5455",
   "metadata": {},
   "outputs": [],
   "source": [
    "X_train, X_test, Y_train, Y_test = train_test_split(x, y, test_size = 0.3, random_state = 0)"
   ]
  },
  {
   "cell_type": "markdown",
   "id": "6de747b1",
   "metadata": {},
   "source": [
    "### Standardize Numerical features"
   ]
  },
  {
   "cell_type": "code",
   "execution_count": 9,
   "id": "d667ed65",
   "metadata": {},
   "outputs": [],
   "source": [
    "numerical_features = x.select_dtypes(include = ['float64', 'int64'])\n",
    "numerical_columns = numerical_features.columns"
   ]
  },
  {
   "cell_type": "code",
   "execution_count": 10,
   "id": "a32c6984",
   "metadata": {},
   "outputs": [],
   "source": [
    "ct = ColumnTransformer([('standardize', StandardScaler(), numerical_columns)], remainder = 'passthrough')"
   ]
  },
  {
   "cell_type": "code",
   "execution_count": 11,
   "id": "5e45f2f6",
   "metadata": {},
   "outputs": [],
   "source": [
    "X_train = ct.fit_transform(X_train)\n",
    "X_test = ct.transform(X_test)"
   ]
  },
  {
   "cell_type": "markdown",
   "id": "6d4861bb",
   "metadata": {},
   "source": [
    "### Prepare labels for classification"
   ]
  },
  {
   "cell_type": "code",
   "execution_count": 12,
   "id": "5965dd8c",
   "metadata": {},
   "outputs": [],
   "source": [
    "le = LabelEncoder()"
   ]
  },
  {
   "cell_type": "code",
   "execution_count": 13,
   "id": "760ca54e",
   "metadata": {},
   "outputs": [],
   "source": [
    "Y_train = le.fit_transform(Y_train.astype(str))\n",
    "Y_test = le.transform(Y_test.astype(str))"
   ]
  },
  {
   "cell_type": "code",
   "execution_count": 14,
   "id": "ea596fa5",
   "metadata": {},
   "outputs": [],
   "source": [
    "Y_train = to_categorical(Y_train)\n",
    "Y_test = to_categorical(Y_test)"
   ]
  },
  {
   "cell_type": "markdown",
   "id": "c68fc00c",
   "metadata": {},
   "source": [
    "### Design the model"
   ]
  },
  {
   "cell_type": "code",
   "execution_count": 15,
   "id": "c404e840",
   "metadata": {},
   "outputs": [],
   "source": [
    "model = Sequential()"
   ]
  },
  {
   "cell_type": "code",
   "execution_count": 16,
   "id": "f55584aa",
   "metadata": {},
   "outputs": [],
   "source": [
    "model.add(InputLayer(input_shape = (X_train.shape[1], )))\n",
    "model.add(Dense(12, activation = 'relu'))\n",
    "model.add(Dense(2, activation = 'softmax'))"
   ]
  },
  {
   "cell_type": "code",
   "execution_count": 17,
   "id": "0463bb28",
   "metadata": {},
   "outputs": [],
   "source": [
    "model.compile(loss = 'categorical_crossentropy', optimizer = 'adam', metrics = ['accuracy'])"
   ]
  },
  {
   "cell_type": "markdown",
   "id": "b0b2d248",
   "metadata": {},
   "source": [
    "### Train and evaluate the model"
   ]
  },
  {
   "cell_type": "code",
   "execution_count": 18,
   "id": "7ae94441",
   "metadata": {},
   "outputs": [
    {
     "name": "stdout",
     "output_type": "stream",
     "text": [
      "Epoch 1/100\n",
      "14/14 [==============================] - 2s 6ms/step - loss: 1.2103 - accuracy: 0.2297\n",
      "Epoch 2/100\n",
      "14/14 [==============================] - 0s 7ms/step - loss: 1.1017 - accuracy: 0.2440\n",
      "Epoch 3/100\n",
      "14/14 [==============================] - 0s 7ms/step - loss: 1.0133 - accuracy: 0.2488\n",
      "Epoch 4/100\n",
      "14/14 [==============================] - 0s 7ms/step - loss: 0.9314 - accuracy: 0.2727\n",
      "Epoch 5/100\n",
      "14/14 [==============================] - 0s 6ms/step - loss: 0.8657 - accuracy: 0.3062\n",
      "Epoch 6/100\n",
      "14/14 [==============================] - 0s 7ms/step - loss: 0.8167 - accuracy: 0.3684\n",
      "Epoch 7/100\n",
      "14/14 [==============================] - 0s 6ms/step - loss: 0.7733 - accuracy: 0.4019\n",
      "Epoch 8/100\n",
      "14/14 [==============================] - 0s 7ms/step - loss: 0.7317 - accuracy: 0.4737\n",
      "Epoch 9/100\n",
      "14/14 [==============================] - 0s 7ms/step - loss: 0.6994 - accuracy: 0.5502\n",
      "Epoch 10/100\n",
      "14/14 [==============================] - 0s 7ms/step - loss: 0.6724 - accuracy: 0.6172\n",
      "Epoch 11/100\n",
      "14/14 [==============================] - 0s 7ms/step - loss: 0.6491 - accuracy: 0.6172\n",
      "Epoch 12/100\n",
      "14/14 [==============================] - 0s 6ms/step - loss: 0.6251 - accuracy: 0.6411\n",
      "Epoch 13/100\n",
      "14/14 [==============================] - 0s 7ms/step - loss: 0.6061 - accuracy: 0.6842\n",
      "Epoch 14/100\n",
      "14/14 [==============================] - 0s 7ms/step - loss: 0.5882 - accuracy: 0.7129\n",
      "Epoch 15/100\n",
      "14/14 [==============================] - 0s 7ms/step - loss: 0.5710 - accuracy: 0.7081\n",
      "Epoch 16/100\n",
      "14/14 [==============================] - 0s 7ms/step - loss: 0.5545 - accuracy: 0.7273\n",
      "Epoch 17/100\n",
      "14/14 [==============================] - 0s 11ms/step - loss: 0.5398 - accuracy: 0.7416\n",
      "Epoch 18/100\n",
      "14/14 [==============================] - 0s 10ms/step - loss: 0.5248 - accuracy: 0.7464\n",
      "Epoch 19/100\n",
      "14/14 [==============================] - 0s 9ms/step - loss: 0.5109 - accuracy: 0.7512\n",
      "Epoch 20/100\n",
      "14/14 [==============================] - 0s 7ms/step - loss: 0.4964 - accuracy: 0.7560\n",
      "Epoch 21/100\n",
      "14/14 [==============================] - 0s 10ms/step - loss: 0.4827 - accuracy: 0.7751\n",
      "Epoch 22/100\n",
      "14/14 [==============================] - 0s 10ms/step - loss: 0.4715 - accuracy: 0.7847\n",
      "Epoch 23/100\n",
      "14/14 [==============================] - 0s 9ms/step - loss: 0.4604 - accuracy: 0.7847\n",
      "Epoch 24/100\n",
      "14/14 [==============================] - 0s 7ms/step - loss: 0.4506 - accuracy: 0.7847\n",
      "Epoch 25/100\n",
      "14/14 [==============================] - 0s 7ms/step - loss: 0.4425 - accuracy: 0.7895\n",
      "Epoch 26/100\n",
      "14/14 [==============================] - 0s 8ms/step - loss: 0.4336 - accuracy: 0.7895\n",
      "Epoch 27/100\n",
      "14/14 [==============================] - 0s 7ms/step - loss: 0.4275 - accuracy: 0.7990\n",
      "Epoch 28/100\n",
      "14/14 [==============================] - 0s 8ms/step - loss: 0.4230 - accuracy: 0.7990\n",
      "Epoch 29/100\n",
      "14/14 [==============================] - 0s 10ms/step - loss: 0.4169 - accuracy: 0.8134 0s - loss: 0.4186 - accuracy: 0.81\n",
      "Epoch 30/100\n",
      "14/14 [==============================] - 0s 8ms/step - loss: 0.4109 - accuracy: 0.8230\n",
      "Epoch 31/100\n",
      "14/14 [==============================] - 0s 9ms/step - loss: 0.4052 - accuracy: 0.8230\n",
      "Epoch 32/100\n",
      "14/14 [==============================] - 0s 9ms/step - loss: 0.4013 - accuracy: 0.8230\n",
      "Epoch 33/100\n",
      "14/14 [==============================] - 0s 8ms/step - loss: 0.3970 - accuracy: 0.8182\n",
      "Epoch 34/100\n",
      "14/14 [==============================] - 0s 8ms/step - loss: 0.3921 - accuracy: 0.8325\n",
      "Epoch 35/100\n",
      "14/14 [==============================] - 0s 9ms/step - loss: 0.3894 - accuracy: 0.8373\n",
      "Epoch 36/100\n",
      "14/14 [==============================] - 0s 7ms/step - loss: 0.3867 - accuracy: 0.8373\n",
      "Epoch 37/100\n",
      "14/14 [==============================] - 0s 8ms/step - loss: 0.3839 - accuracy: 0.8373\n",
      "Epoch 38/100\n",
      "14/14 [==============================] - 0s 7ms/step - loss: 0.3817 - accuracy: 0.8325\n",
      "Epoch 39/100\n",
      "14/14 [==============================] - 0s 7ms/step - loss: 0.3789 - accuracy: 0.8325\n",
      "Epoch 40/100\n",
      "14/14 [==============================] - 0s 13ms/step - loss: 0.3772 - accuracy: 0.8325\n",
      "Epoch 41/100\n",
      "14/14 [==============================] - 0s 6ms/step - loss: 0.3744 - accuracy: 0.8325\n",
      "Epoch 42/100\n",
      "14/14 [==============================] - 0s 8ms/step - loss: 0.3734 - accuracy: 0.8325\n",
      "Epoch 43/100\n",
      "14/14 [==============================] - 0s 7ms/step - loss: 0.3700 - accuracy: 0.8325\n",
      "Epoch 44/100\n",
      "14/14 [==============================] - 0s 9ms/step - loss: 0.3675 - accuracy: 0.8421\n",
      "Epoch 45/100\n",
      "14/14 [==============================] - 0s 8ms/step - loss: 0.3667 - accuracy: 0.8421\n",
      "Epoch 46/100\n",
      "14/14 [==============================] - 0s 8ms/step - loss: 0.3663 - accuracy: 0.8373\n",
      "Epoch 47/100\n",
      "14/14 [==============================] - 0s 10ms/step - loss: 0.3651 - accuracy: 0.8421\n",
      "Epoch 48/100\n",
      "14/14 [==============================] - 0s 7ms/step - loss: 0.3634 - accuracy: 0.8373\n",
      "Epoch 49/100\n",
      "14/14 [==============================] - 0s 9ms/step - loss: 0.3607 - accuracy: 0.8421\n",
      "Epoch 50/100\n",
      "14/14 [==============================] - 0s 7ms/step - loss: 0.3590 - accuracy: 0.8421\n",
      "Epoch 51/100\n",
      "14/14 [==============================] - 0s 7ms/step - loss: 0.3577 - accuracy: 0.8517\n",
      "Epoch 52/100\n",
      "14/14 [==============================] - 0s 8ms/step - loss: 0.3568 - accuracy: 0.8517\n",
      "Epoch 53/100\n",
      "14/14 [==============================] - 0s 8ms/step - loss: 0.3559 - accuracy: 0.8517\n",
      "Epoch 54/100\n",
      "14/14 [==============================] - 0s 8ms/step - loss: 0.3545 - accuracy: 0.8517\n",
      "Epoch 55/100\n",
      "14/14 [==============================] - 0s 7ms/step - loss: 0.3544 - accuracy: 0.8517\n",
      "Epoch 56/100\n",
      "14/14 [==============================] - 0s 6ms/step - loss: 0.3528 - accuracy: 0.8565\n",
      "Epoch 57/100\n",
      "14/14 [==============================] - 0s 6ms/step - loss: 0.3515 - accuracy: 0.8517\n",
      "Epoch 58/100\n",
      "14/14 [==============================] - 0s 7ms/step - loss: 0.3507 - accuracy: 0.8517\n",
      "Epoch 59/100\n",
      "14/14 [==============================] - 0s 7ms/step - loss: 0.3502 - accuracy: 0.8565\n",
      "Epoch 60/100\n",
      "14/14 [==============================] - 0s 6ms/step - loss: 0.3491 - accuracy: 0.8565\n",
      "Epoch 61/100\n",
      "14/14 [==============================] - 0s 8ms/step - loss: 0.3489 - accuracy: 0.8517\n",
      "Epoch 62/100\n",
      "14/14 [==============================] - 0s 6ms/step - loss: 0.3467 - accuracy: 0.8517\n",
      "Epoch 63/100\n",
      "14/14 [==============================] - 0s 6ms/step - loss: 0.3456 - accuracy: 0.8517\n",
      "Epoch 64/100\n",
      "14/14 [==============================] - 0s 7ms/step - loss: 0.3459 - accuracy: 0.8517\n",
      "Epoch 65/100\n",
      "14/14 [==============================] - 0s 6ms/step - loss: 0.3447 - accuracy: 0.8517\n",
      "Epoch 66/100\n",
      "14/14 [==============================] - 0s 6ms/step - loss: 0.3435 - accuracy: 0.8517\n",
      "Epoch 67/100\n",
      "14/14 [==============================] - 0s 7ms/step - loss: 0.3432 - accuracy: 0.8517\n",
      "Epoch 68/100\n",
      "14/14 [==============================] - 0s 7ms/step - loss: 0.3417 - accuracy: 0.8517\n",
      "Epoch 69/100\n",
      "14/14 [==============================] - 0s 7ms/step - loss: 0.3407 - accuracy: 0.8517\n",
      "Epoch 70/100\n",
      "14/14 [==============================] - 0s 7ms/step - loss: 0.3395 - accuracy: 0.8517\n",
      "Epoch 71/100\n",
      "14/14 [==============================] - 0s 7ms/step - loss: 0.3386 - accuracy: 0.8469\n",
      "Epoch 72/100\n",
      "14/14 [==============================] - 0s 7ms/step - loss: 0.3380 - accuracy: 0.8469\n",
      "Epoch 73/100\n",
      "14/14 [==============================] - 0s 5ms/step - loss: 0.3377 - accuracy: 0.8517\n",
      "Epoch 74/100\n",
      "14/14 [==============================] - 0s 6ms/step - loss: 0.3375 - accuracy: 0.8565\n",
      "Epoch 75/100\n",
      "14/14 [==============================] - 0s 6ms/step - loss: 0.3369 - accuracy: 0.8565\n",
      "Epoch 76/100\n",
      "14/14 [==============================] - 0s 7ms/step - loss: 0.3354 - accuracy: 0.8565\n",
      "Epoch 77/100\n",
      "14/14 [==============================] - 0s 6ms/step - loss: 0.3347 - accuracy: 0.8565\n",
      "Epoch 78/100\n",
      "14/14 [==============================] - 0s 7ms/step - loss: 0.3340 - accuracy: 0.8565\n",
      "Epoch 79/100\n",
      "14/14 [==============================] - 0s 7ms/step - loss: 0.3328 - accuracy: 0.8565\n",
      "Epoch 80/100\n",
      "14/14 [==============================] - 0s 7ms/step - loss: 0.3343 - accuracy: 0.8565\n",
      "Epoch 81/100\n",
      "14/14 [==============================] - 0s 6ms/step - loss: 0.3319 - accuracy: 0.8565\n",
      "Epoch 82/100\n"
     ]
    },
    {
     "name": "stdout",
     "output_type": "stream",
     "text": [
      "14/14 [==============================] - 0s 6ms/step - loss: 0.3311 - accuracy: 0.8565\n",
      "Epoch 83/100\n",
      "14/14 [==============================] - 0s 8ms/step - loss: 0.3308 - accuracy: 0.8517\n",
      "Epoch 84/100\n",
      "14/14 [==============================] - 0s 9ms/step - loss: 0.3297 - accuracy: 0.8565\n",
      "Epoch 85/100\n",
      "14/14 [==============================] - 0s 9ms/step - loss: 0.3295 - accuracy: 0.8565\n",
      "Epoch 86/100\n",
      "14/14 [==============================] - 0s 7ms/step - loss: 0.3291 - accuracy: 0.8565\n",
      "Epoch 87/100\n",
      "14/14 [==============================] - 0s 7ms/step - loss: 0.3291 - accuracy: 0.8612\n",
      "Epoch 88/100\n",
      "14/14 [==============================] - 0s 8ms/step - loss: 0.3282 - accuracy: 0.8565\n",
      "Epoch 89/100\n",
      "14/14 [==============================] - 0s 7ms/step - loss: 0.3270 - accuracy: 0.8565\n",
      "Epoch 90/100\n",
      "14/14 [==============================] - 0s 7ms/step - loss: 0.3258 - accuracy: 0.8565\n",
      "Epoch 91/100\n",
      "14/14 [==============================] - 0s 7ms/step - loss: 0.3251 - accuracy: 0.8612\n",
      "Epoch 92/100\n",
      "14/14 [==============================] - 0s 9ms/step - loss: 0.3253 - accuracy: 0.8565\n",
      "Epoch 93/100\n",
      "14/14 [==============================] - 0s 7ms/step - loss: 0.3239 - accuracy: 0.8612\n",
      "Epoch 94/100\n",
      "14/14 [==============================] - 0s 7ms/step - loss: 0.3234 - accuracy: 0.8612\n",
      "Epoch 95/100\n",
      "14/14 [==============================] - 0s 7ms/step - loss: 0.3230 - accuracy: 0.8612\n",
      "Epoch 96/100\n",
      "14/14 [==============================] - 0s 7ms/step - loss: 0.3233 - accuracy: 0.8612\n",
      "Epoch 97/100\n",
      "14/14 [==============================] - 0s 7ms/step - loss: 0.3233 - accuracy: 0.8660\n",
      "Epoch 98/100\n",
      "14/14 [==============================] - 0s 7ms/step - loss: 0.3226 - accuracy: 0.8660\n",
      "Epoch 99/100\n",
      "14/14 [==============================] - 0s 7ms/step - loss: 0.3217 - accuracy: 0.8612\n",
      "Epoch 100/100\n",
      "14/14 [==============================] - 0s 7ms/step - loss: 0.3207 - accuracy: 0.8612\n"
     ]
    },
    {
     "data": {
      "text/plain": [
       "<keras.callbacks.History at 0x22c182d4970>"
      ]
     },
     "execution_count": 18,
     "metadata": {},
     "output_type": "execute_result"
    }
   ],
   "source": [
    "model.fit(X_train, Y_train, epochs = 100, batch_size = 16, verbose = 1)"
   ]
  },
  {
   "cell_type": "code",
   "execution_count": 19,
   "id": "29632ddf",
   "metadata": {},
   "outputs": [],
   "source": [
    "loss, acc = model.evaluate(X_test, Y_test, verbose = 0)"
   ]
  },
  {
   "cell_type": "code",
   "execution_count": 20,
   "id": "ae74daac",
   "metadata": {},
   "outputs": [
    {
     "data": {
      "text/plain": [
       "0.42054468393325806"
      ]
     },
     "execution_count": 20,
     "metadata": {},
     "output_type": "execute_result"
    }
   ],
   "source": [
    "loss"
   ]
  },
  {
   "cell_type": "code",
   "execution_count": 21,
   "id": "80e8ff85",
   "metadata": {},
   "outputs": [
    {
     "data": {
      "text/plain": [
       "0.8222222328186035"
      ]
     },
     "execution_count": 21,
     "metadata": {},
     "output_type": "execute_result"
    }
   ],
   "source": [
    "acc"
   ]
  },
  {
   "cell_type": "markdown",
   "id": "6df14ac8",
   "metadata": {},
   "source": [
    "### Generating a classification report"
   ]
  },
  {
   "cell_type": "code",
   "execution_count": 22,
   "id": "2118cb75",
   "metadata": {},
   "outputs": [
    {
     "data": {
      "text/plain": [
       "array([0, 0, 0, 0, 0, 0, 1, 0, 1, 0, 0, 1, 0, 0, 1, 1, 0, 0, 0, 0, 0, 1,\n",
       "       1, 0, 0, 0, 0, 0, 0, 0, 0, 1, 0, 0, 0, 1, 0, 0, 0, 1, 0, 0, 0, 0,\n",
       "       1, 0, 0, 0, 0, 1, 0, 0, 0, 0, 1, 0, 0, 1, 0, 0, 1, 0, 0, 0, 0, 0,\n",
       "       0, 0, 1, 1, 0, 0, 0, 1, 1, 0, 1, 0, 0, 0, 0, 0, 0, 0, 0, 0, 0, 0,\n",
       "       0, 0], dtype=int64)"
      ]
     },
     "execution_count": 22,
     "metadata": {},
     "output_type": "execute_result"
    }
   ],
   "source": [
    "y_estimate = model.predict(X_test, verbose = 0)\n",
    "y_estimate = np.argmax(y_estimate, axis = 1)\n",
    "y_estimate"
   ]
  },
  {
   "cell_type": "code",
   "execution_count": 23,
   "id": "22f5696f",
   "metadata": {},
   "outputs": [
    {
     "data": {
      "text/plain": [
       "array([0, 0, 1, 0, 0, 0, 0, 0, 1, 0, 0, 1, 1, 1, 1, 1, 0, 0, 0, 0, 0, 0,\n",
       "       1, 0, 1, 0, 1, 0, 0, 0, 0, 1, 1, 0, 1, 1, 0, 1, 0, 1, 0, 0, 0, 1,\n",
       "       1, 0, 0, 0, 1, 1, 0, 0, 0, 0, 1, 1, 0, 1, 0, 0, 0, 0, 1, 0, 0, 0,\n",
       "       0, 0, 0, 1, 0, 0, 0, 1, 1, 0, 1, 0, 0, 0, 0, 0, 0, 0, 0, 0, 0, 0,\n",
       "       0, 0], dtype=int64)"
      ]
     },
     "execution_count": 23,
     "metadata": {},
     "output_type": "execute_result"
    }
   ],
   "source": [
    "y_true = np.argmax(Y_test, axis = 1)\n",
    "y_true"
   ]
  },
  {
   "cell_type": "code",
   "execution_count": 27,
   "id": "74759201",
   "metadata": {},
   "outputs": [
    {
     "name": "stdout",
     "output_type": "stream",
     "text": [
      "              precision    recall  f1-score   support\n",
      "\n",
      "           0       0.83      0.94      0.88        62\n",
      "           1       0.80      0.57      0.67        28\n",
      "\n",
      "    accuracy                           0.82        90\n",
      "   macro avg       0.81      0.75      0.77        90\n",
      "weighted avg       0.82      0.82      0.81        90\n",
      "\n"
     ]
    }
   ],
   "source": [
    "print(classification_report(y_true, y_estimate))"
   ]
  },
  {
   "cell_type": "code",
   "execution_count": null,
   "id": "bd8a4733",
   "metadata": {},
   "outputs": [],
   "source": []
  },
  {
   "cell_type": "code",
   "execution_count": null,
   "id": "fbe947af",
   "metadata": {},
   "outputs": [],
   "source": []
  }
 ],
 "metadata": {
  "kernelspec": {
   "display_name": "Python 3",
   "language": "python",
   "name": "python3"
  },
  "language_info": {
   "codemirror_mode": {
    "name": "ipython",
    "version": 3
   },
   "file_extension": ".py",
   "mimetype": "text/x-python",
   "name": "python",
   "nbconvert_exporter": "python",
   "pygments_lexer": "ipython3",
   "version": "3.8.8"
  }
 },
 "nbformat": 4,
 "nbformat_minor": 5
}
